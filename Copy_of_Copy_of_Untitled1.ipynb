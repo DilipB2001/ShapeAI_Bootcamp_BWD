{
  "nbformat": 4,
  "nbformat_minor": 0,
  "metadata": {
    "colab": {
      "name": "Copy of Copy of Untitled1.ipynb",
      "provenance": [],
      "collapsed_sections": [],
      "authorship_tag": "ABX9TyNmpSHavZcbsA4UDpfkuxwN",
      "include_colab_link": true
    },
    "kernelspec": {
      "name": "python3",
      "display_name": "Python 3"
    },
    "language_info": {
      "name": "python"
    }
  },
  "cells": [
    {
      "cell_type": "markdown",
      "metadata": {
        "id": "view-in-github",
        "colab_type": "text"
      },
      "source": [
        "<a href=\"https://colab.research.google.com/github/dharaneesh2/ShapeAI_Bootcamp_BWD/blob/main/Copy_of_Copy_of_Untitled1.ipynb\" target=\"_parent\"><img src=\"https://colab.research.google.com/assets/colab-badge.svg\" alt=\"Open In Colab\"/></a>"
      ]
    },
    {
      "cell_type": "code",
      "metadata": {
        "colab": {
          "base_uri": "https://localhost:8080/"
        },
        "id": "Kt4FQCMSsMUg",
        "outputId": "1abdc02b-caec-4b46-c6ed-8851ce51715e"
      },
      "source": [
        "#create \n",
        "set1 = {\"Dharaneesh\",1901033}\n",
        "print(set1)\n",
        "#type\n",
        "print(type(set1))\n",
        "#add and update\n",
        "set1.add(\"J\")\n",
        "print(set1)\n",
        "set2 = {1,2,3,4,5}\n",
        "set1.update(set2)\n",
        "print(set1)\n",
        "#remove & discord\n",
        "set2.remove(1)\n",
        "print(set2)\n",
        "set2.discard(2)\n",
        "print(set2)\n",
        "set2.discard(40)\n",
        "print(set2)\n",
        "#pop() & clear()\n",
        "set1.pop()\n",
        "print(set1)\n",
        "set1.clear()\n",
        "print(set1)\n",
        "#check for an element \n",
        "print(\"J\" in set1, 5 in set2)\n",
        "#length\n",
        "print(len(set1), len(set2))\n",
        "#delete\n",
        "del set1\n",
        "#print(set1)"
      ],
      "execution_count": null,
      "outputs": [
        {
          "output_type": "stream",
          "text": [
            "{1901033, 'Dharaneesh'}\n",
            "<class 'set'>\n",
            "{1901033, 'J', 'Dharaneesh'}\n",
            "{1, 2, 3, 4, 5, 'Dharaneesh', 1901033, 'J'}\n",
            "{2, 3, 4, 5}\n",
            "{3, 4, 5}\n",
            "{3, 4, 5}\n",
            "{2, 3, 4, 5, 'Dharaneesh', 1901033, 'J'}\n",
            "set()\n",
            "False True\n",
            "0 3\n"
          ],
          "name": "stdout"
        }
      ]
    },
    {
      "cell_type": "code",
      "metadata": {
        "id": "3y870fst9nfk"
      },
      "source": [
        ""
      ],
      "execution_count": null,
      "outputs": []
    },
    {
      "cell_type": "code",
      "metadata": {
        "colab": {
          "base_uri": "https://localhost:8080/"
        },
        "id": "DisepFDv5vPk",
        "outputId": "50ec17c3-90b0-4539-e15d-e8c104fe5f7a"
      },
      "source": [
        "#create tuple\n",
        "tuple1=(\"Dharaneesh\",\"J\", 1901033)\n",
        "print(tuple1)\n",
        "#type()\n",
        "print(type(tuple1))\n",
        "#accessing using index\n",
        "print(tuple1[1], tuple1[2])\n",
        "#positive slice\n",
        "print(tuple1[0])\n",
        "#negative slice\n",
        "print(tuple1[-1])\n",
        "#changing tuple value \n",
        "# error will occur\n",
        "# tuple1[2] = 1901010\n",
        "# print(tuple1) \n",
        "\n",
        "#length\n",
        "print(len(tuple1))\n",
        "#check for element\n",
        "print(1901033 in tuple1, 0 in tuple1)\n",
        "#iterating by for\n",
        "for i in tuple1:\n",
        "  print(i)\n",
        "#adding value\n",
        "tuple1 = tuple1 + (0,);\n",
        "#tuple1.append(20) error occur coz no append or extend method in tuple\n",
        "# print(tuple1)\n",
        "\n",
        "# tuple1.remove(1901033) error occured coz no remove method in tuple\n",
        "# print(tuple1)\n",
        "\n",
        "#count() return how many times that value \n",
        "print(tuple1.count(1901033))\n",
        "#MAX\n",
        "tuple2 = (10,3,5,67,2,333,5)\n",
        "print(max(tuple2));\n",
        "#MIN\n",
        "print(min(tuple2))\n",
        "#repitition\n",
        "print(tuple1 * 2)\n",
        "#index\n",
        "print(tuple2.index(333))\n",
        "#join\n",
        "joinedTuple = tuple1 + tuple2\n",
        "print(joinedTuple)"
      ],
      "execution_count": null,
      "outputs": [
        {
          "output_type": "stream",
          "text": [
            "('Dharaneesh', 'J', 1901033)\n",
            "<class 'tuple'>\n",
            "J 1901033\n",
            "Dharaneesh\n",
            "1901033\n",
            "3\n",
            "True False\n",
            "Dharaneesh\n",
            "J\n",
            "1901033\n",
            "1\n",
            "333\n",
            "2\n",
            "('Dharaneesh', 'J', 1901033, 0, 'Dharaneesh', 'J', 1901033, 0)\n",
            "5\n",
            "('Dharaneesh', 'J', 1901033, 0, 10, 3, 5, 67, 2, 333, 5)\n"
          ],
          "name": "stdout"
        }
      ]
    }
  ]
}